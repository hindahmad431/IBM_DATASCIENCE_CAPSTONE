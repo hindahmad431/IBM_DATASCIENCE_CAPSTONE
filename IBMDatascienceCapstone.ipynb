{
  "nbformat": 4,
  "nbformat_minor": 0,
  "metadata": {
    "colab": {
      "name": "IBMDatascienceCapstone.ipynb",
      "provenance": [],
      "authorship_tag": "ABX9TyOpyLPrcNIfaHK5mk2R2KCv",
      "include_colab_link": true
    },
    "kernelspec": {
      "name": "python3",
      "display_name": "Python 3"
    }
  },
  "cells": [
    {
      "cell_type": "markdown",
      "metadata": {
        "id": "view-in-github",
        "colab_type": "text"
      },
      "source": [
        "<a href=\"https://colab.research.google.com/github/hindahmad431/IBM_DATASCIENCE_CAPSTONE/blob/master/IBMDatascienceCapstone.ipynb\" target=\"_parent\"><img src=\"https://colab.research.google.com/assets/colab-badge.svg\" alt=\"Open In Colab\"/></a>"
      ]
    },
    {
      "cell_type": "markdown",
      "metadata": {
        "id": "liIZNmNunaAi",
        "colab_type": "text"
      },
      "source": [
        "#This Notebook is the capstone for Datascience\n"
      ]
    },
    {
      "cell_type": "code",
      "metadata": {
        "id": "7qMzFG5YnY16",
        "colab_type": "code",
        "colab": {}
      },
      "source": [
        "import numpy as np \n",
        "import pandas as pd"
      ],
      "execution_count": null,
      "outputs": []
    },
    {
      "cell_type": "code",
      "metadata": {
        "id": "L42yhAjQng_i",
        "colab_type": "code",
        "colab": {
          "base_uri": "https://localhost:8080/",
          "height": 34
        },
        "outputId": "f8859e5d-ccba-4022-f3ca-08643f910a71"
      },
      "source": [
        "print(\"Hello Capstone Project Course!\")"
      ],
      "execution_count": null,
      "outputs": [
        {
          "output_type": "stream",
          "text": [
            "Hello Capstone Project Course!\n"
          ],
          "name": "stdout"
        }
      ]
    }
  ]
}